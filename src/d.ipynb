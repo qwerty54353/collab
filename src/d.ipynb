{
  "nbformat": 4,
  "nbformat_minor": 0,
  "metadata": {
    "colab": {
      "provenance": []
    },
    "kernelspec": {
      "name": "python3",
      "display_name": "Python 3"
    },
    "language_info": {
      "name": "python"
    }
  },
  "cells": [
    {
      "cell_type": "code",
      "execution_count": null,
      "metadata": {
        "id": "I5AmSSWnGOvJ"
      },
      "outputs": [],
      "source": [
        "def get_text(text):\n",
        "  plaintext=''\n",
        "  for char in text:\n",
        "    if char.isalpha():\n",
        "      shifted=ord(char)+3\n",
        "      if char.isupper():\n",
        "        if shifted>ord('Z'):shifted-=26\n",
        "        elif shifted<ord('A'):shifted+=26\n",
        "      elif shifted>ord('z'):shifted-=26\n",
        "      elif shifted<ord('a'):shifted+=26\n",
        "      plaintext+=chr(shifted)\n",
        "    elif char=='$':plaintext+='/'\n",
        "    elif char=='#':plaintext+='\\\\'\n",
        "    elif char=='=':plaintext+='_'\n",
        "    elif char=='+':plaintext+=':'\n",
        "    else:plaintext+=char\n",
        "  return plaintext\n",
        "def get_num(num):\n",
        "\tnumeric='-'\n",
        "\tfor c in num:numeric+=str((int(c)+3)%11)\n",
        "\treturn str(numeric)"
      ]
    }
  ]
}