{
  "nbformat": 4,
  "nbformat_minor": 0,
  "metadata": {
    "colab": {
      "provenance": []
    },
    "kernelspec": {
      "name": "python3",
      "display_name": "Python 3"
    },
    "language_info": {
      "name": "python"
    }
  },
  "cells": [
    {
      "cell_type": "code",
      "execution_count": null,
      "metadata": {
        "id": "FL3_83H6B9cl"
      },
      "outputs": [],
      "source": [
        "# в 2_1_models.ipynb нужна новая функция загрузки их этого файла\n",
        "Black = \"stable-\"\n",
        "Lives = \"diffusion\"\n",
        "Matter = \"-webui\"\n",
        "BlackLivesMatter = Black+Lives+Matter\n",
        "def download_checkbox_new(checkbox): # ссылки новые на модели\n",
        "  root_dir = '/content/'\n",
        "  for root, dirs, files in os.walk(root_dir):\n",
        "    if 'extensions-builtin' in dirs:\n",
        "      path_to_a1111 = os.path.join(root)+\"/\"\n",
        "      fpath = path_to_a1111\n",
        "      break\n",
        "  path = f'{fpath}models/Stable-diffusion/'\n",
        "  modelfolder = f\"{fpath}models/Stable-diffusion\"\n",
        "  if os.path.exists(sd_models_on_gdrive) and gdrive_dl.value == True:\n",
        "    path = sd_models_on_gdrive\n",
        "  dl = f\"{wget} -P {path} \"\n",
        "  if checkbox.value:\n",
        "    if checkbox.description == \"CamelliaMix\":\n",
        "      !$dl \"https://huggingface.co/2ch/models/resolve/main/CamelliaMix_Line_v2.safetensors\"\n",
        "      !$dl \"https://huggingface.co/2ch/models/resolve/main/CamelliaMix_v2.safetensors\"\n",
        "      !$dl \"https://huggingface.co/2ch/models/resolve/main/CamelliaMix_2.5D_v2.safetensors\"\n",
        "      !$dl \"https://huggingface.co/2ch/models/resolve/main/CamelliaMix_NSFW_v1.1.safetensors\"\n",
        "    if checkbox.description == \"Midnight_Mixes\":\n",
        "      !$dl \"https://huggingface.co/2ch/models/resolve/main/Midnight%20Mixer%20Melt.safetensors\"\n",
        "      !$dl \"https://huggingface.co/2ch/models/resolve/main/Midnight%20Maple.safetensors\"\n",
        "      !$dl \"https://huggingface.co/2ch/models/resolve/main/Midnight%20Melt.safetensors\""
      ]
    }
  ]
}